{
 "cells": [
  {
   "cell_type": "code",
   "execution_count": 1,
   "metadata": {
    "colab": {
     "base_uri": "https://localhost:8080/"
    },
    "id": "yeVtUh3eyNr9",
    "outputId": "afe883b7-215d-48f8-f4cf-0cfba2fa18c7"
   },
   "outputs": [
    {
     "name": "stdout",
     "output_type": "stream",
     "text": [
      "Requirement already satisfied: pyts in c:\\programdata\\anaconda3\\lib\\site-packages (0.11.0)\n",
      "Requirement already satisfied: scipy>=1.3.0 in c:\\programdata\\anaconda3\\lib\\site-packages (from pyts) (1.5.2)\n",
      "Requirement already satisfied: numpy>=1.17.5 in c:\\programdata\\anaconda3\\lib\\site-packages (from pyts) (1.19.2)\n",
      "Requirement already satisfied: scikit-learn>=0.22.1 in c:\\programdata\\anaconda3\\lib\\site-packages (from pyts) (0.23.2)\n",
      "Requirement already satisfied: numba>=0.48.0 in c:\\programdata\\anaconda3\\lib\\site-packages (from pyts) (0.51.2)\n",
      "Requirement already satisfied: joblib>=0.12 in c:\\programdata\\anaconda3\\lib\\site-packages (from pyts) (0.17.0)\n",
      "Requirement already satisfied: threadpoolctl>=2.0.0 in c:\\programdata\\anaconda3\\lib\\site-packages (from scikit-learn>=0.22.1->pyts) (2.1.0)\n",
      "Requirement already satisfied: llvmlite<0.35,>=0.34.0.dev0 in c:\\programdata\\anaconda3\\lib\\site-packages (from numba>=0.48.0->pyts) (0.34.0)\n",
      "Requirement already satisfied: setuptools in c:\\programdata\\anaconda3\\lib\\site-packages (from numba>=0.48.0->pyts) (50.3.1.post20201107)\n"
     ]
    }
   ],
   "source": [
    "!pip install pyts"
   ]
  },
  {
   "cell_type": "code",
   "execution_count": 2,
   "metadata": {
    "id": "Td1hgCzB3pJe"
   },
   "outputs": [],
   "source": [
    "import pandas as pd\n",
    "import numpy as np\n",
    "import copy\n",
    "from sklearn.preprocessing import MinMaxScaler\n",
    "import matplotlib.pyplot as plt\n",
    "from mpl_toolkits.axes_grid1 import ImageGrid\n",
    "from pyts.image import GramianAngularField\n",
    "from pyts.datasets import load_gunpoint\n",
    "import tensorflow as tf\n",
    "from tensorflow import keras\n",
    "from tensorflow.keras import layers"
   ]
  },
  {
   "cell_type": "code",
   "execution_count": 3,
   "metadata": {
    "id": "P369svGQyL5K"
   },
   "outputs": [],
   "source": [
    "df1 = pd.read_csv('C:\\\\Users\\\\sjkjy\\\\OneDrive\\\\바탕 화면\\\\나의모든것\\\\연구실인턴\\\\대산공+한디정경진대회\\\\mHealth\\\\subject1.csv')\n",
    "df2 = pd.read_csv('C:\\\\Users\\\\sjkjy\\\\OneDrive\\\\바탕 화면\\\\나의모든것\\\\연구실인턴\\\\대산공+한디정경진대회\\\\mHealth\\\\subject2.csv')\n",
    "df3 = pd.read_csv('C:\\\\Users\\\\sjkjy\\\\OneDrive\\\\바탕 화면\\\\나의모든것\\\\연구실인턴\\\\대산공+한디정경진대회\\\\mHealth\\\\subject3.csv')\n",
    "df4 = pd.read_csv('C:\\\\Users\\\\sjkjy\\\\OneDrive\\\\바탕 화면\\\\나의모든것\\\\연구실인턴\\\\대산공+한디정경진대회\\\\mHealth\\\\subject4.csv')\n",
    "df5 = pd.read_csv('C:\\\\Users\\\\sjkjy\\\\OneDrive\\\\바탕 화면\\\\나의모든것\\\\연구실인턴\\\\대산공+한디정경진대회\\\\mHealth\\\\subject5.csv')\n",
    "df6 = pd.read_csv('C:\\\\Users\\\\sjkjy\\\\OneDrive\\\\바탕 화면\\\\나의모든것\\\\연구실인턴\\\\대산공+한디정경진대회\\\\mHealth\\\\subject6.csv')\n",
    "df7 = pd.read_csv('C:\\\\Users\\\\sjkjy\\\\OneDrive\\\\바탕 화면\\\\나의모든것\\\\연구실인턴\\\\대산공+한디정경진대회\\\\mHealth\\\\subject7.csv')\n",
    "df8 = pd.read_csv('C:\\\\Users\\\\sjkjy\\\\OneDrive\\\\바탕 화면\\\\나의모든것\\\\연구실인턴\\\\대산공+한디정경진대회\\\\mHealth\\\\subject8.csv')\n",
    "df9 = pd.read_csv('C:\\\\Users\\\\sjkjy\\\\OneDrive\\\\바탕 화면\\\\나의모든것\\\\연구실인턴\\\\대산공+한디정경진대회\\\\mHealth\\\\subject9.csv')\n",
    "df10 = pd.read_csv('C:\\\\Users\\\\sjkjy\\\\OneDrive\\\\바탕 화면\\\\나의모든것\\\\연구실인턴\\\\대산공+한디정경진대회\\\\mHealth\\\\subject10.csv')"
   ]
  },
  {
   "cell_type": "code",
   "execution_count": 4,
   "metadata": {
    "id": "8ijOrPh9yL5R"
   },
   "outputs": [],
   "source": [
    "df1 = df1[df1['Unnamed: 0'] != 3050]\n",
    "df1 = df1.drop(columns=['Unnamed: 0'], axis=1)\n",
    "df2 = df2[df2['Unnamed: 0'] != 3050]\n",
    "df2 = df2.drop(columns=['Unnamed: 0'], axis=1)\n",
    "df3 = df3[df3['Unnamed: 0'] != 3050]\n",
    "df3 = df3.drop(columns=['Unnamed: 0'], axis=1)\n",
    "df4 = df4[df4['Unnamed: 0'] != 3050]\n",
    "df4 = df4.drop(columns=['Unnamed: 0'], axis=1)\n",
    "df5 = df5[df5['Unnamed: 0'] != 3050]\n",
    "df5 = df5.drop(columns=['Unnamed: 0'], axis=1)\n",
    "df6 = df6[df6['Unnamed: 0'] != 3050]\n",
    "df6 = df6.drop(columns=['Unnamed: 0'], axis=1)\n",
    "df7 = df7[df7['Unnamed: 0'] != 3050]\n",
    "df7 = df7.drop(columns=['Unnamed: 0'], axis=1)\n",
    "df8 = df8[df8['Unnamed: 0'] != 3050]\n",
    "df8 = df8.drop(columns=['Unnamed: 0'], axis=1)\n",
    "df9 = df9[df9['Unnamed: 0'] != 3050]\n",
    "df9 = df9.drop(columns=['Unnamed: 0'], axis=1)\n",
    "df10 = df10[df10['Unnamed: 0'] != 3050]\n",
    "df10 = df10.drop(columns=['Unnamed: 0'], axis=1)"
   ]
  },
  {
   "cell_type": "code",
   "execution_count": 5,
   "metadata": {
    "id": "7MlKC4sXyL5S"
   },
   "outputs": [],
   "source": [
    "def pro(df,i):\n",
    "    label=df['label']\n",
    "    df.drop(['label'],axis=1,inplace=True)\n",
    "    return df,label"
   ]
  },
  {
   "cell_type": "code",
   "execution_count": 6,
   "metadata": {
    "id": "H66bezypyL5T"
   },
   "outputs": [],
   "source": [
    "df1,label1=pro(df1,1)\n",
    "df2,label2=pro(df2,2)\n",
    "df3,label3=pro(df3,3)\n",
    "df4,label4=pro(df4,4)\n",
    "df5,label5=pro(df5,5)\n",
    "df6,label6=pro(df6,6)\n",
    "df7,label7=pro(df7,7)\n",
    "df8,label8=pro(df8,8)\n",
    "df9,label9=pro(df9,9)\n",
    "df10,label10=pro(df10,10)"
   ]
  },
  {
   "cell_type": "code",
   "execution_count": 7,
   "metadata": {
    "id": "yxoMmEPYyL5U"
   },
   "outputs": [],
   "source": [
    "testx = np.concatenate((df8,df9,df10),axis=0)\n",
    "testy = np.concatenate((label8,label9,label10),axis=0)\n",
    "trainx = np.concatenate((df1,df2,df3,df4,df5,df6,df7),axis=0) \n",
    "trainy = np.concatenate((label1,label2,label3,label4,label5,label6,label7),axis=0) "
   ]
  },
  {
   "cell_type": "code",
   "execution_count": 8,
   "metadata": {
    "id": "ivqTRr5cyL5V"
   },
   "outputs": [],
   "source": [
    "def make_data(df):\n",
    "    scaler = MinMaxScaler()\n",
    "    df=pd.DataFrame(scaler.fit_transform(df[:]))\n",
    "    return df\n",
    "train = make_data(trainx)\n",
    "test = make_data(testx)"
   ]
  },
  {
   "cell_type": "code",
   "execution_count": 9,
   "metadata": {
    "id": "DoOlRirayL5W"
   },
   "outputs": [],
   "source": [
    "#128100,1,9\n",
    "#128100,6\n",
    "#54900,1,9\n",
    "#54900,6\n",
    "\n",
    "#7352,128,9\n",
    "#7352,6"
   ]
  },
  {
   "cell_type": "code",
   "execution_count": 10,
   "metadata": {
    "id": "WpTRFVWRyL5Y"
   },
   "outputs": [],
   "source": [
    "trainy = pd.DataFrame(pd.get_dummies(trainy))\n",
    "testy = pd.DataFrame(pd.get_dummies(testy))"
   ]
  },
  {
   "cell_type": "code",
   "execution_count": 11,
   "metadata": {
    "id": "amyI5u79yL5Z"
   },
   "outputs": [],
   "source": [
    "# train, trainy, test, testy\n",
    "train = np.expand_dims(train, axis=-1)\n",
    "test = np.expand_dims(test, axis=-1)"
   ]
  },
  {
   "cell_type": "code",
   "execution_count": 12,
   "metadata": {
    "id": "4vyQEOfK1nbx"
   },
   "outputs": [],
   "source": [
    "model = keras.Sequential(\n",
    "    [\n",
    "        layers.Conv1D(16, 3, strides=1),\n",
    "        layers.MaxPool1D(pool_size=2,strides=2),\n",
    "        layers.Conv1D(32, 3, strides=1),\n",
    "        layers.Flatten(),\n",
    "        layers.Dense(64, activation=\"relu\"),\n",
    "        layers.Dropout(0.5),\n",
    "        layers.Dense(32, activation=\"relu\"),\n",
    "        layers.Dense(6, activation='softmax'),\n",
    "    ])\n",
    "\n",
    "model.compile(optimizer=tf.keras.optimizers.Adam(learning_rate=0.001), loss='categorical_crossentropy', metrics=['acc'])"
   ]
  },
  {
   "cell_type": "code",
   "execution_count": null,
   "metadata": {
    "colab": {
     "base_uri": "https://localhost:8080/"
    },
    "id": "bW1LoAXp9s8K",
    "outputId": "16844262-f52f-4b3f-c232-e2dd76e1d54d"
   },
   "outputs": [
    {
     "name": "stdout",
     "output_type": "stream",
     "text": [
      "Epoch 1/15\n",
      "8007/8007 [==============================] - 29s 3ms/step - loss: 0.1809 - acc: 0.9387 - val_loss: 0.0381 - val_acc: 0.9883\n",
      "Epoch 2/15\n",
      "8007/8007 [==============================] - 30s 4ms/step - loss: 0.0537 - acc: 0.9834 - val_loss: 0.0212 - val_acc: 0.9934\n",
      "Epoch 3/15\n",
      "8007/8007 [==============================] - 28s 4ms/step - loss: 0.0375 - acc: 0.9884 - val_loss: 0.0252 - val_acc: 0.9935\n",
      "Epoch 4/15\n",
      "8007/8007 [==============================] - 29s 4ms/step - loss: 0.0324 - acc: 0.9903 - val_loss: 0.0143 - val_acc: 0.9962\n",
      "Epoch 5/15\n",
      "8007/8007 [==============================] - 31s 4ms/step - loss: 0.0288 - acc: 0.9912 - val_loss: 0.0162 - val_acc: 0.9949\n",
      "Epoch 6/15\n",
      "8007/8007 [==============================] - 29s 4ms/step - loss: 0.0249 - acc: 0.9925 - val_loss: 0.0134 - val_acc: 0.9960\n",
      "Epoch 7/15\n",
      "3810/8007 [=============>................] - ETA: 12s - loss: 0.0237 - acc: 0.9927"
     ]
    }
   ],
   "source": [
    "history = model.fit(\n",
    "    train, \n",
    "    trainy, \n",
    "    batch_size=16,\n",
    "    epochs=15, \n",
    "    validation_data=(test,testy)\n",
    ")"
   ]
  },
  {
   "cell_type": "code",
   "execution_count": 19,
   "metadata": {
    "colab": {
     "base_uri": "https://localhost:8080/",
     "height": 283
    },
    "id": "TYkkDaXsAJcK",
    "outputId": "1e88e932-20b3-4c8c-95f8-0f2789a8fbb3"
   },
   "outputs": [
    {
     "data": {
      "text/plain": [
       "<matplotlib.legend.Legend at 0x7f8cbfc06ad0>"
      ]
     },
     "execution_count": 19,
     "metadata": {},
     "output_type": "execute_result"
    },
    {
     "data": {
      "image/png": "[encoded data removed]",
      "text/plain": [
       "<Figure size 432x288 with 1 Axes>"
      ]
     },
     "metadata": {
      "needs_background": "light"
     },
     "output_type": "display_data"
    }
   ],
   "source": [
    "import matplotlib.pyplot as plt\n",
    "plt.plot(history.history['loss'], label='loss')\n",
    "plt.plot(history.history['val_loss'], label='val_loss')\n",
    "plt.legend()"
   ]
  },
  {
   "cell_type": "code",
   "execution_count": 21,
   "metadata": {
    "colab": {
     "base_uri": "https://localhost:8080/",
     "height": 283
    },
    "id": "grUYwewmAizJ",
    "outputId": "1b27dbc8-c23b-405b-989e-68e8f85e5d3a"
   },
   "outputs": [
    {
     "data": {
      "text/plain": [
       "<matplotlib.legend.Legend at 0x7f8cbf700590>"
      ]
     },
     "execution_count": 21,
     "metadata": {},
     "output_type": "execute_result"
    },
    {
     "data": {
      "image/png": "[encoded data removed]",
      "text/plain": [
       "<Figure size 432x288 with 1 Axes>"
      ]
     },
     "metadata": {
      "needs_background": "light"
     },
     "output_type": "display_data"
    }
   ],
   "source": [
    "plt.plot(history.history['acc'], label='acc')\n",
    "plt.plot(history.history['val_acc'], label='val_acc')\n",
    "plt.legend()"
   ]
  }
 ],
 "metadata": {
  "colab": {
   "collapsed_sections": [],
   "name": "modifed_cnn_MHEALTH.ipynb",
   "provenance": []
  },
  "kernelspec": {
   "display_name": "Python 3 (ipykernel)",
   "language": "python",
   "name": "python3"
  },
  "language_info": {
   "codemirror_mode": {
    "name": "ipython",
    "version": 3
   },
   "file_extension": ".py",
   "mimetype": "text/x-python",
   "name": "python",
   "nbconvert_exporter": "python",
   "pygments_lexer": "ipython3",
   "version": "3.10.4"
  }
 },
 "nbformat": 4,
 "nbformat_minor": 4
}
